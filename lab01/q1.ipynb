{
 "cells": [
  {
   "cell_type": "code",
   "execution_count": 6,
   "id": "f696d3e5",
   "metadata": {},
   "outputs": [
    {
     "name": "stdout",
     "output_type": "stream",
     "text": [
      "43\n",
      "String is a panagram\n"
     ]
    }
   ],
   "source": [
    "a=str(input('Enter a string: '))\n",
    "print(len(a))\n",
    "range=set('abcdefghijklmnopqrstuvwxyz')\n",
    "\n",
    "if range.issubset(a.lower()):\n",
    "    print('String is a panagram')\n",
    "else:\n",
    "    print('String is not a panagram')\n"
   ]
  },
  {
   "cell_type": "code",
   "execution_count": 4,
   "id": "b5762dc2",
   "metadata": {},
   "outputs": [
    {
     "name": "stdout",
     "output_type": "stream",
     "text": [
      "Perfect number\n"
     ]
    }
   ],
   "source": [
    "a=int(input('Enter a number:'))\n",
    "\n",
    "divisors=[]\n",
    "for i in range (1,(a//2)+1):\n",
    "    if a%i==0:\n",
    "        \n",
    "        divisors.append(i)\n",
    "   \n",
    "if sum(divisors)==a:\n",
    "    print('Perfect number')\n",
    "else:\n",
    "    print('Not a perfect number')"
   ]
  },
  {
   "cell_type": "code",
   "execution_count": null,
   "id": "976f7cca",
   "metadata": {},
   "outputs": [
    {
     "name": "stdout",
     "output_type": "stream",
     "text": [
      "x7zhv\n",
      "A8NKL\n",
      "P4QN8\n",
      "Y5wEC\n"
     ]
    }
   ],
   "source": [
    "import random,string\n",
    "\n",
    "num_passwords = int(input(\"Number of passwords to generate: \"))\n",
    "length = int(input(\"Length of each password: \"))\n",
    "\n",
    "for i in range(1,num_passwords+1):\n",
    "    password = [\n",
    "        random.choice(string.ascii_letters), \n",
    "        random.choice(string.digits)         \n",
    "    ]\n",
    "    all_chars = string.ascii_letters + string.digits\n",
    "    password += random.choices(all_chars, k=length-2)\n",
    "    password_str = ''.join(password)\n",
    "    print(password_str)"
   ]
  },
  {
   "cell_type": "code",
   "execution_count": null,
   "id": "43b3a131",
   "metadata": {},
   "outputs": [
    {
     "name": "stdout",
     "output_type": "stream",
     "text": [
      "Area is =  78.5\n",
      "Circumference is =  31.400000000000002\n"
     ]
    }
   ],
   "source": [
    "class Circle:\n",
    "    def __init__(self, radius):\n",
    "        self.radius = radius\n",
    "        \n",
    "    def area(self):\n",
    "        print ('Area is = ',3.14* self.radius * self.radius)\n",
    "    \n",
    "    def circum(self):\n",
    "        print('Circumference is = ',2*3.14* self.radius)\n",
    "\n",
    "if __name__ == \"__main__\":\n",
    "    circle = Circle(int(input('Enter radius of circle: ')))\n",
    "    circle.area()\n",
    "    circle.circum()"
   ]
  },
  {
   "cell_type": "code",
   "execution_count": 6,
   "id": "d895bbac",
   "metadata": {},
   "outputs": [
    {
     "name": "stdout",
     "output_type": "stream",
     "text": [
      "Node found\n"
     ]
    }
   ],
   "source": [
    "def create_node(value):\n",
    "    return {'value': value, 'left': None, 'right': None}\n",
    "\n",
    "def insert(root, value):\n",
    "    if root is None:\n",
    "        return create_node(value)\n",
    "    if value < root['value']:\n",
    "        root['left'] = insert(root['left'], value)\n",
    "    elif value > root['value']:\n",
    "        root['right'] = insert(root['right'], value)\n",
    "    return root\n",
    "\n",
    "def search(root, value):\n",
    "    if root is None:\n",
    "        return False\n",
    "    if value == root['value']:\n",
    "        return True\n",
    "    elif value < root['value']:\n",
    "        return search(root['left'], value)\n",
    "    else:\n",
    "        return search(root['right'], value)\n",
    "\n",
    "values = [50, 30, 70, 20, 40, 60, 80, 25]\n",
    "root = None\n",
    "for v in values:\n",
    "    root = insert(root, v)\n",
    "\n",
    "search_value = 25\n",
    "if search(root, search_value):\n",
    "    print(\"Node found\")\n",
    "else:\n",
    "    print(\"Node not found\")"
   ]
  },
  {
   "cell_type": "code",
   "execution_count": null,
   "id": "746ad8b2",
   "metadata": {},
   "outputs": [],
   "source": []
  }
 ],
 "metadata": {
  "kernelspec": {
   "display_name": "Python 3",
   "language": "python",
   "name": "python3"
  },
  "language_info": {
   "codemirror_mode": {
    "name": "ipython",
    "version": 3
   },
   "file_extension": ".py",
   "mimetype": "text/x-python",
   "name": "python",
   "nbconvert_exporter": "python",
   "pygments_lexer": "ipython3",
   "version": "3.13.2"
  }
 },
 "nbformat": 4,
 "nbformat_minor": 5
}
