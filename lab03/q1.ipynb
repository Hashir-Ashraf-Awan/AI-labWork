{
 "cells": [
  {
   "cell_type": "code",
   "execution_count": 13,
   "id": "096d0c38",
   "metadata": {},
   "outputs": [
    {
     "name": "stdout",
     "output_type": "stream",
     "text": [
      "BFS Traversal starting from node 'C': ['C', 'D', 'B', 'A', 'E']\n",
      "BFS Traversal starting from node 1: [1, 2, 3, 4, 5, 6, 7, 8, 9, 10, 11, 12]\n"
     ]
    }
   ],
   "source": [
    "from collections import deque\n",
    "\n",
    "graph = {\n",
    "    'A': ['B', 'E'],\n",
    "    'B': ['A', 'E'],\n",
    "    'C': ['D'],\n",
    "    'D': ['B','A'],\n",
    "    'E': ['B', 'A'],\n",
    "}\n",
    "tree = {\n",
    "    1: [2, 3, 4],2: [5, 6],3: [],4: [7, 8],5: [9, 10],6: [],7: [11, 12],8: [],9: [],10: [],11: [],12: []\n",
    "}\n",
    "\n",
    "\n",
    "def bfs(graph, start):\n",
    "    visited = set()\n",
    "    queue = deque([start])\n",
    "    traversal = []\n",
    "\n",
    "    while queue:\n",
    "        node = queue.popleft()\n",
    "        if node not in visited:\n",
    "            traversal.append(node)\n",
    "            visited.add(node)\n",
    "            for neighbor in graph[node]:\n",
    "                if neighbor not in visited:\n",
    "                    queue.append(neighbor)\n",
    "    return traversal\n",
    "\n",
    "result = bfs(graph, 'C')\n",
    "print(\"BFS Traversal starting from node 'C':\", result)\n",
    "result = bfs(tree, 1)\n",
    "print(\"BFS Traversal starting from node 1:\", result)"
   ]
  },
  {
   "cell_type": "code",
   "execution_count": 18,
   "id": "05a6cee5",
   "metadata": {},
   "outputs": [
    {
     "name": "stdout",
     "output_type": "stream",
     "text": [
      "E B A D C \n",
      "\n",
      "3 2 5 4 6 1 \n",
      "\n"
     ]
    },
    {
     "data": {
      "text/plain": [
       "[3, 2, 5, 4, 6, 1]"
      ]
     },
     "execution_count": 18,
     "metadata": {},
     "output_type": "execute_result"
    }
   ],
   "source": [
    "graph = {\n",
    "    'A': ['B', 'E','D'],\n",
    "    'B': ['A', 'E','D'],\n",
    "    'C': ['D'],\n",
    "    'D': ['B','A','C'],\n",
    "    'E': ['B', 'A'],\n",
    "}\n",
    "graph1={\n",
    "    6: [4],4:[5,3,6],3:[2,4],5:[4,1,2],2:[5,3,1],1:[5,2]\n",
    "}\n",
    "\n",
    "def dfs(start, graph,visited=None):\n",
    "    if visited is None:\n",
    "        visited = set()\n",
    "    visited.add(start)\n",
    "    print(start, end=' ')\n",
    "    for neighbor in graph[start]:\n",
    "        if neighbor not in visited:\n",
    "            dfs(neighbor, graph, visited)\n",
    "            \n",
    "def dfs_iterative(start, graph):\n",
    "    visited = set()\n",
    "    stack = [start]\n",
    "    traversal = []\n",
    "\n",
    "    while stack:\n",
    "        node = stack.pop()\n",
    "        if node not in visited:\n",
    "            traversal.append(node)\n",
    "            visited.add(node)\n",
    "            stack.extend(reversed(graph[node]))\n",
    "    return traversal\n",
    "\n",
    "            \n",
    "dfs('E', graph)\n",
    "print('\\n')\n",
    "dfs(3, graph1)\n",
    "dfs_iterative('E', graph)\n",
    "print('\\n')\n",
    "dfs_iterative(3, graph1)"
   ]
  },
  {
   "cell_type": "code",
   "execution_count": null,
   "id": "e5543564",
   "metadata": {},
   "outputs": [
    {
     "name": "stdout",
     "output_type": "stream",
     "text": [
      "Preorder: [50, 17, 9, 14, 12, 23, 19, 76, 54, 72, 67]\n",
      "Inorder: [12, 14, 9, 17, 19, 23, 50, 54, 76, 67, 72]\n",
      "Postorder: [12, 14, 9, 19, 23, 17, 54, 67, 72, 76, 50]\n"
     ]
    }
   ],
   "source": [
    "tree = {\n",
    "    50: [17, 76],17: [9, 23],9: [14, None],14: [12, None],12: [None, None],23: [19, None],19: [None, None],76: [54, 72],54: [None, None],72: [67, None],67: [None, None]\n",
    "}\n",
    "\n",
    "def preorder(node):\n",
    "    if node is None:\n",
    "        return []\n",
    "    left, right = tree.get(node, [None, None])\n",
    "    return [node] + preorder(left) + preorder(right)\n",
    "\n",
    "def inorder(node):\n",
    "    if node is None:\n",
    "        return []\n",
    "    left, right = tree.get(node, [None, None])\n",
    "    return inorder(left) + [node] + inorder(right)\n",
    "\n",
    "def postorder(node):\n",
    "    if node is None:\n",
    "        return []\n",
    "    left, right = tree.get(node, [None, None])\n",
    "    return postorder(left) + postorder(right) + [node]\n",
    "\n",
    "print(\"Preorder:\", preorder(50))\n",
    "print(\"Inorder:\", inorder(50))\n",
    "print(\"Postorder:\", postorder(50))"
   ]
  },
  {
   "cell_type": "code",
   "execution_count": null,
   "id": "09d11723",
   "metadata": {},
   "outputs": [],
   "source": []
  }
 ],
 "metadata": {
  "kernelspec": {
   "display_name": "Python 3",
   "language": "python",
   "name": "python3"
  },
  "language_info": {
   "codemirror_mode": {
    "name": "ipython",
    "version": 3
   },
   "file_extension": ".py",
   "mimetype": "text/x-python",
   "name": "python",
   "nbconvert_exporter": "python",
   "pygments_lexer": "ipython3",
   "version": "3.13.2"
  }
 },
 "nbformat": 4,
 "nbformat_minor": 5
}
